{
  "nbformat": 4,
  "nbformat_minor": 0,
  "metadata": {
    "colab": {
      "provenance": []
    },
    "kernelspec": {
      "name": "python3",
      "display_name": "Python 3"
    },
    "language_info": {
      "name": "python"
    }
  },
  "cells": [
    {
      "cell_type": "code",
      "execution_count": 1,
      "metadata": {
        "colab": {
          "base_uri": "https://localhost:8080/"
        },
        "id": "OC5oDtMbH_In",
        "outputId": "363fd3a7-3d7e-42c4-807b-d6398e6904b7"
      },
      "outputs": [
        {
          "output_type": "stream",
          "name": "stdout",
          "text": [
            "Contenido de la línea: Nombres;Apellidos,Dirección;Correo\n",
            "Contenido de la línea: Krystal Nguyen;Lee;53707 Taylor Trail Suite 291West Ralph, DC 46920;devin26@example.net\n",
            "Contenido de la línea: Michael Cervantes;Brown;4006 Patrick InletWest Tonimouth, HI 37629;jacqueline66@example.com\n",
            "Contenido de la línea: Trevor Leonard;Burke;2195 Kelly Terrace Suite 452North Darrylfurt, AZ 14118;kkeller@example.com\n",
            "Contenido de la línea: Shannon Ramirez;Marquez;1187 Patrick Rapids Apt. 050Mclaughlinton, NE 97059;megan55@example.org\n",
            "Contenido de la línea: Hannah Shannon;Holloway;701 Fields Crest Suite 566Meyermouth, SD 57962;angela01@example.org\n",
            "Contenido de la línea: Ashley Cooper;Santos;22140 Benjamin LakesSouth Royfort, TN 04415;rebeccaduncan@example.com\n",
            "Contenido de la línea: Amanda Nunez;Knight;2382 Maria GrovesTerriview, IN 62256;tbrooks@example.com\n",
            "Contenido de la línea: Amanda Montgomery;Caldwell;8101 Gardner TurnpikeLake Julieview, MI 48828;benjamin82@example.net\n",
            "Contenido de la línea: Cynthia Wilson;Carr;1079 Robin RanchWest Louis, FM 45530;fhaynes@example.net\n",
            "Contenido de la línea: Natalie Buchanan;Vaughan;80997 Ward Orchard Suite 799Wilcoxstad, SC 19525;jasonfox@example.com\n",
            "Contenido de la línea: Michael Richards;Carlson;9866 Christina Trail Apt. 162North Jennifer, WA 91855;darryl97@example.org\n",
            "Contenido de la línea: Rodney Garcia;Bailey;4830 Rowland TunnelTimothyhaven, VT 66125;crawfordrobin@example.com\n",
            "Contenido de la línea: Connie Callahan;Wilson;0626 Jefferson Shores Suite 216West Brian, DE 75550;yanderson@example.net\n",
            "Contenido de la línea: Javier Marquez;Mcdowell;2671 Conley JunctionsMichaelton, AL 42985;brian49@example.net\n",
            "Contenido de la línea: Bill Sandoval;Newman;0309 Annette Glen Suite 066Scottborough, PA 99450;zsexton@example.net\n",
            "Contenido de la línea: Chase Reyes;Williams;5610 Sharp Points Apt. 545Marshallshire, KS 94804;michael68@example.com\n",
            "Contenido de la línea: Timothy Scott;Hopkins;PSC 3859, Box 3450APO AE 79126;zholt@example.com\n",
            "Contenido de la línea: James Adams;Smith;3970 Jennifer VilleGentryhaven, AL 68900;sabrina67@example.com\n",
            "Contenido de la línea: Catherine Ferguson;Wells;53759 Young Expressway Apt. 032South Alejandro, CA 62994;bairdsteven@example.org\n",
            "Contenido de la línea: Evan Castillo;Horton;8679 Earl RadialPaulmouth, MN 95138;andersontheresa@example.net\n",
            "Contenido de la línea: Brenda Riddle;Carrillo;75437 Fox Plains Suite 279West Alejandromouth, PA 00764;fdeleon@example.com\n",
            "Contenido de la línea: Lynn Baker;Floyd;6220 Stephanie IsleJoneston, NH 57078;robertclark@example.com\n",
            "Contenido de la línea: Kelsey Rice;Horton;55429 Larry RowJosephchester, WY 24989;elizabeth12@example.com\n",
            "Contenido de la línea: Wesley Miller;Hampton;6833 Cynthia EstatesKennethville, WY 85904;lisalittle@example.com\n",
            "Contenido de la línea: Jonathan Boyle;Stephenson;30205 Walker ViaPort Sierra, AZ 79303;rgraham@example.net\n",
            "Contenido de la línea: Patricia Smith;Barber;USS CharlesFPO AP 70673;doyleallison@example.org\n",
            "Contenido de la línea: Christopher Huerta;Nelson;325 Wilson MallWest Johnathanberg, TX 08755;xmeza@example.org\n",
            "Contenido de la línea: Heather Johnson;Collins;97348 Michael CourtRaymondstad, ID 25592;paul25@example.com\n",
            "Contenido de la línea: Patricia Montgomery MD;Robertson;509 Christina Crossroad Apt. 575West Sylviamouth, NY 66504;brownbrian@example.org\n",
            "Contenido de la línea: Frank Ryan;Wilson;244 Nathan Cliffs Apt. 087Lake Anitatown, SC 04511;denisesims@example.org\n"
          ]
        }
      ],
      "source": [
        "# Definir la ruta del archivo\n",
        "archivo = 'informacion.txt'\n",
        "\n",
        "# Abrir el archivo en modo de lectura\n",
        "with open(archivo, 'r') as file:\n",
        "    # Leer el archivo línea por línea\n",
        "    for linea in file:\n",
        "        # Eliminar los caracteres de nueva línea y espacios en blanco al principio y al final\n",
        "        linea = linea.strip()\n",
        "        # Imprimir la línea de forma detallada\n",
        "        print(f'Contenido de la línea: {linea}')"
      ]
    }
  ]
}